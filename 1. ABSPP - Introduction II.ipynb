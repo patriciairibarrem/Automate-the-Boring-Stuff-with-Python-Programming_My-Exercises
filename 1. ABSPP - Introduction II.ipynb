{
 "cells": [
  {
   "cell_type": "markdown",
   "metadata": {},
   "source": [
    "# Automate the Boring Stuff with Python Programming \n",
    "\n",
    "* Book URL: https://automatetheboringstuff.com/\n",
    "* Udemy Course: https://here.udemy.com/course/automate/learn/lecture/3662882#overview"
   ]
  },
  {
   "cell_type": "markdown",
   "metadata": {},
   "source": [
    "### Built in Functions\n",
    "\n",
    "* Functions are like a mini=program inside your program\n",
    "* The main point of functions is to get rid of duplicate code\n",
    "* The def statement defines a function\n",
    "* The parameters are the variables in between the function's parentheses in the def statement\n",
    "* The return value is specified using the return statement\n",
    "* Every function has a return value If your function doesn't have a return statement, the default return value is None\n",
    "* Keyword arguments to functions are usually for optional arguments. The print() function has keywords arguments end='' and sep=''\n",
    "\n",
    "* import modules that contain standard and third-party functions"
   ]
  },
  {
   "cell_type": "code",
   "execution_count": 1,
   "metadata": {},
   "outputs": [
    {
     "name": "stdout",
     "output_type": "stream",
     "text": [
      "Collecting pyperclip\n",
      "  Downloading pyperclip-1.8.2.tar.gz (20 kB)\n",
      "Building wheels for collected packages: pyperclip\n",
      "  Building wheel for pyperclip (setup.py): started\n",
      "  Building wheel for pyperclip (setup.py): finished with status 'done'\n",
      "  Created wheel for pyperclip: filename=pyperclip-1.8.2-py3-none-any.whl size=11113 sha256=5aae66acefb531e0c2bfe4b4b36e65ff5e63de7d2d6d35bba4aa165e56fcea5e\n",
      "  Stored in directory: c:\\users\\iribarre\\appdata\\local\\pip\\cache\\wheels\\9f\\18\\84\\8f69f8b08169c7bae2dde6bd7daf0c19fca8c8e500ee620a28\n",
      "Successfully built pyperclip\n",
      "Installing collected packages: pyperclip\n",
      "Successfully installed pyperclip-1.8.2\n"
     ]
    }
   ],
   "source": [
    "!pip install pyperclip"
   ]
  },
  {
   "cell_type": "code",
   "execution_count": 2,
   "metadata": {},
   "outputs": [],
   "source": [
    "import pyperclip"
   ]
  },
  {
   "cell_type": "code",
   "execution_count": 5,
   "metadata": {},
   "outputs": [
    {
     "data": {
      "text/plain": [
       "'Hi world'"
      ]
     },
     "execution_count": 5,
     "metadata": {},
     "output_type": "execute_result"
    }
   ],
   "source": [
    "pyperclip.copy('Hi world')\n",
    "pyperclip.paste()"
   ]
  },
  {
   "cell_type": "markdown",
   "metadata": {},
   "source": [
    "### Creating Functions\n",
    "\n",
    "* Argument = The value passed in the function call and that goes into the parenthesis\n",
    "* Parameter = The variable inside the function "
   ]
  },
  {
   "cell_type": "code",
   "execution_count": 21,
   "metadata": {},
   "outputs": [
    {
     "name": "stdout",
     "output_type": "stream",
     "text": [
      "Hi\n",
      "Hello\n",
      "Hey\n"
     ]
    }
   ],
   "source": [
    "# Creating a function to de-duplicate actions\n",
    "def hello():\n",
    "    print('Hi')\n",
    "    print('Hello')\n",
    "    print('Hey')\n",
    "    \n",
    "hello()"
   ]
  },
  {
   "cell_type": "code",
   "execution_count": 23,
   "metadata": {},
   "outputs": [
    {
     "name": "stdout",
     "output_type": "stream",
     "text": [
      "Hi Alice\n",
      "Hell oAlice\n",
      "Hey Alice\n",
      "Hi Bob\n",
      "Hell oBob\n",
      "Hey Bob\n"
     ]
    }
   ],
   "source": [
    "# Creting a functoin with parameter + argument\n",
    "\n",
    "def hello(name): # name is the parameter/variable\n",
    "    print('Hi ' + name)\n",
    "    print('Hell o' + name)\n",
    "    print('Hey ' + name)\n",
    "\n",
    "hello('Alice') # Alice is the argument for that parameter\n",
    "hello('Bob')"
   ]
  },
  {
   "cell_type": "code",
   "execution_count": 2,
   "metadata": {},
   "outputs": [
    {
     "name": "stdout",
     "output_type": "stream",
     "text": [
      "6\n"
     ]
    }
   ],
   "source": [
    "def plusOne(number):\n",
    "    return number +1 \n",
    "\n",
    "newNumber = plusOne(5)\n",
    "print(newNumber)"
   ]
  },
  {
   "cell_type": "markdown",
   "metadata": {},
   "source": [
    "What about \"print()\"? It will return a None value, like True or False. The None value is None Type value. "
   ]
  },
  {
   "cell_type": "markdown",
   "metadata": {},
   "source": [
    "### Local and Global Scopes\n",
    "\n",
    "* Global scope is created when the program starts and is destroyed when the program terminates\n",
    "* Local scope is created whenever a function is called. All the variables just assigned during this function call exist within that local scope. When the function returns the local scope is destroyed, and this variables are forgotten. \n",
    "\n",
    "Scope matters for many reasons: \n",
    "1. Code in the global scope can't use any local variable\n",
    "2. Code in a local scope can access global variable\n",
    "3. Code in one function's local scope can't use variables in another local scope"
   ]
  },
  {
   "cell_type": "code",
   "execution_count": 3,
   "metadata": {},
   "outputs": [
    {
     "name": "stdout",
     "output_type": "stream",
     "text": [
      "Some code here.\n",
      "Some more code.\n"
     ]
    }
   ],
   "source": [
    "spam = 42 # global variable\n",
    "\n",
    "def egg():\n",
    "    spam = 42 # local variable\n",
    "\n",
    "print('Some code here.')\n",
    "print('Some more code.')"
   ]
  },
  {
   "cell_type": "code",
   "execution_count": 4,
   "metadata": {},
   "outputs": [
    {
     "ename": "NameError",
     "evalue": "name 'eggs' is not defined",
     "output_type": "error",
     "traceback": [
      "\u001b[1;31m---------------------------------------------------------------------------\u001b[0m",
      "\u001b[1;31mNameError\u001b[0m                                 Traceback (most recent call last)",
      "\u001b[1;32m<ipython-input-4-71f4034e7be8>\u001b[0m in \u001b[0;36m<module>\u001b[1;34m\u001b[0m\n\u001b[0;32m      3\u001b[0m \u001b[1;33m\u001b[0m\u001b[0m\n\u001b[0;32m      4\u001b[0m \u001b[0mspam\u001b[0m\u001b[1;33m(\u001b[0m\u001b[1;33m)\u001b[0m\u001b[1;33m\u001b[0m\u001b[1;33m\u001b[0m\u001b[0m\n\u001b[1;32m----> 5\u001b[1;33m \u001b[0mprint\u001b[0m\u001b[1;33m(\u001b[0m\u001b[0meggs\u001b[0m\u001b[1;33m)\u001b[0m\u001b[1;33m\u001b[0m\u001b[1;33m\u001b[0m\u001b[0m\n\u001b[0m",
      "\u001b[1;31mNameError\u001b[0m: name 'eggs' is not defined"
     ]
    }
   ],
   "source": [
    "def spam():\n",
    "    eggs = 99\n",
    "\n",
    "spam()\n",
    "print(eggs) # it will return 'eggs is not defined' because local scope can't be used in the global scope"
   ]
  },
  {
   "cell_type": "code",
   "execution_count": 5,
   "metadata": {},
   "outputs": [
    {
     "name": "stdout",
     "output_type": "stream",
     "text": [
      "99\n"
     ]
    }
   ],
   "source": [
    "def spam():\n",
    "    eggs = 99 # this is different from the second one\n",
    "    bacon()\n",
    "    print(eggs)\n",
    "    \n",
    "def bacon():\n",
    "    ham = 101\n",
    "    eggs = 0 # this is different from the first one\n",
    "\n",
    "spam() #it will returns 99 instead of 0 because a local scope can't used another local scope. "
   ]
  },
  {
   "cell_type": "code",
   "execution_count": 9,
   "metadata": {},
   "outputs": [
    {
     "name": "stdout",
     "output_type": "stream",
     "text": [
      "43\n"
     ]
    }
   ],
   "source": [
    "def spam():\n",
    "    print(eggs)\n",
    "\n",
    "#eggs = 42\n",
    "spam()"
   ]
  },
  {
   "cell_type": "markdown",
   "metadata": {},
   "source": [
    "Recap:\n",
    "* A scope can be thought of as an area of the source code, and as a container of variables\n",
    "* The global scope is code outside of all functions. Variales assigned here are global variables.\n",
    "* Each function's code is in its own local scope. Variables assigned here are local variables. \n",
    "* Code in the global scope cannot use any local variables in any another function's local scope\n",
    "* if there's an assignment statement for a variable in a function, that is a local variable"
   ]
  },
  {
   "cell_type": "markdown",
   "metadata": {},
   "source": [
    "### Handling Errors with try / except\n",
    "\n",
    "* A divide-by-zero error happens when Python divides a number by zero\n",
    "* Errors cause the program to crash\n",
    "* An error that happens inside a try block will causecode in the except block to execute. That codecanhandle the erroror display a message to the user so that the program can keep going."
   ]
  },
  {
   "cell_type": "code",
   "execution_count": null,
   "metadata": {},
   "outputs": [
    {
     "name": "stdout",
     "output_type": "stream",
     "text": [
      "How many cats do you have?\n"
     ]
    }
   ],
   "source": [
    "print(\"How many cats do you have?\")\n",
    "numCats = input()\n",
    "try:\n",
    "    if int(numCats) >= 4:\n",
    "        print('That is a lot of cats')\n",
    "    else:\n",
    "        print('That is not that many cats.')\n",
    "except ValueError:\n",
    "    print('You did not enter a number.')"
   ]
  },
  {
   "cell_type": "code",
   "execution_count": null,
   "metadata": {},
   "outputs": [],
   "source": []
  }
 ],
 "metadata": {
  "kernelspec": {
   "display_name": "Python 3",
   "language": "python",
   "name": "python3"
  },
  "language_info": {
   "codemirror_mode": {
    "name": "ipython",
    "version": 3
   },
   "file_extension": ".py",
   "mimetype": "text/x-python",
   "name": "python",
   "nbconvert_exporter": "python",
   "pygments_lexer": "ipython3",
   "version": "3.7.6"
  }
 },
 "nbformat": 4,
 "nbformat_minor": 4
}
