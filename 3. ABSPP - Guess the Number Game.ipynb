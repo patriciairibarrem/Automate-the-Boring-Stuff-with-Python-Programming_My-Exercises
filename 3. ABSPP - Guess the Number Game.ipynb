{
 "cells": [
  {
   "cell_type": "markdown",
   "metadata": {},
   "source": [
    "# Automate the Boring Stuff with Python Programming \n",
    "\n",
    "* Book URL: https://automatetheboringstuff.com/\n",
    "* Udemy Course: https://here.udemy.com/course/automate/learn/lecture/3662882#overview"
   ]
  },
  {
   "cell_type": "markdown",
   "metadata": {},
   "source": [
    "### GUESS THE NUMBER GAME"
   ]
  },
  {
   "cell_type": "code",
   "execution_count": 1,
   "metadata": {},
   "outputs": [],
   "source": [
    "import random"
   ]
  },
  {
   "cell_type": "code",
   "execution_count": 9,
   "metadata": {},
   "outputs": [
    {
     "name": "stdout",
     "output_type": "stream",
     "text": [
      "Hello. What is your name?\n",
      "pati\n",
      "Well, pati, I am thinking of a number between 1 and 20. Take a Guess!\n",
      "10\n",
      "Your guess is too high.\n",
      "5\n",
      "Your guess is too low.\n",
      "8\n",
      "Your guess is too high.\n",
      "6\n",
      "Good job, pati! You guessed my number in 4guesses.\n"
     ]
    }
   ],
   "source": [
    "# Define parameters and arguments\n",
    "print('Hello. What is your name?')\n",
    "name = input() \n",
    "\n",
    "print('Well, ' + name + ', I am thinking of a number between 1 and 20. Take a Guess!')\n",
    "secretNumber = random.randint(1, 20)\n",
    "\n",
    "# Ask the player to guess 6 times in a 'for' looping\n",
    "for guessesTaken in range(1, 7): \n",
    "    guess = int(input())\n",
    "# You can provide tips\n",
    "    if guess < secretNumber:\n",
    "        print('Your guess is too low.')\n",
    "    elif guess > secretNumber:\n",
    "        print('Your guess is too high.')\n",
    "    else: \n",
    "        break # This condition is the correct guess or the player achieved the max of guesses, so we can stop this loop and continue the program.\n",
    "        \n",
    "if guess == secretNumber:\n",
    "    print('Good job, ' + name + '! You guessed my number in ' + str(guessesTaken) + ' guesses.')\n",
    "else:\n",
    "    print('Nope. The number I was thinking of was ' + str(secretNumber))"
   ]
  },
  {
   "cell_type": "code",
   "execution_count": 8,
   "metadata": {},
   "outputs": [
    {
     "name": "stdout",
     "output_type": "stream",
     "text": [
      "Hello. What is your name?\n",
      "pati\n",
      "Well, pati, I am thinking of a number between 1 and 20. Take a Guess!\n",
      "DEBUG: Secret Number is 16\n",
      "16\n",
      "Good job, pati! You guessed my number in 1 guess.\n"
     ]
    }
   ],
   "source": [
    "# Testing the same game with DEBUG\n",
    "\n",
    "print('Hello. What is your name?')\n",
    "name = input() \n",
    "\n",
    "print('Well, ' + name + ', I am thinking of a number between 1 and 20. Take a Guess!')\n",
    "secretNumber = random.randint(1, 20)\n",
    "\n",
    "print('DEBUG: Secret Number is ' + str(secretNumber))\n",
    "\n",
    "for guessesTaken in range(1, 7): \n",
    "    guess = int(input())\n",
    "    if guess < secretNumber:\n",
    "        print('Your guess is too low.')\n",
    "    elif guess > secretNumber:\n",
    "        print('Your guess is too high.')\n",
    "    else: \n",
    "        break\n",
    "        \n",
    "if guess == secretNumber:\n",
    "    print('Good job, ' + name + '! You guessed my number in ' + str(guessesTaken) + ' guess.')\n",
    "else:\n",
    "    print('Nope. The number I was thinking of was ' + str(secretNumber))"
   ]
  },
  {
   "cell_type": "code",
   "execution_count": null,
   "metadata": {},
   "outputs": [],
   "source": []
  }
 ],
 "metadata": {
  "kernelspec": {
   "display_name": "Python 3",
   "language": "python",
   "name": "python3"
  },
  "language_info": {
   "codemirror_mode": {
    "name": "ipython",
    "version": 3
   },
   "file_extension": ".py",
   "mimetype": "text/x-python",
   "name": "python",
   "nbconvert_exporter": "python",
   "pygments_lexer": "ipython3",
   "version": "3.7.6"
  }
 },
 "nbformat": 4,
 "nbformat_minor": 4
}
