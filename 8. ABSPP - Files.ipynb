{
 "cells": [
  {
   "cell_type": "markdown",
   "metadata": {},
   "source": [
    "# Automate the Boring Stuff with Python Programming \n",
    "\n",
    "* Book URL: https://automatetheboringstuff.com/\n",
    "* Udemy Course: https://here.udemy.com/course/automate/learn/lecture/3662882#overview"
   ]
  },
  {
   "cell_type": "markdown",
   "metadata": {},
   "source": [
    "### Files\n",
    "- Files have a name and a path\n",
    "- The root folder is the lowest folder. It's C:\\ on Windonws\n",
    "- in a file path, the folders and filename are separated by backslashes on Windonws\n",
    "- Use the os.path.join() function to combine folders with the correct slash\n",
    "- The currecnt working directory is the folder that any relative paths are relative to\n",
    "- os.getcwd() will return the current working directory\n",
    "- os.chdir() will change the current working directory\n",
    "- Absolute paths begin with the root folder, relative paths do not\n",
    "- The . folder represents \"this folder\", the .. folder represents \"the parents folder\"\n",
    "- os.path.abspath() returns an absolute path form of the path passed to it\n",
    "- os.path.isabs() returns True if the path passed to it is absolute\n",
    "- os.path.relpath() returns the relative path between two paths passed to it\n",
    "- os.makedirs() can make folders\n",
    "- os.pat.getsize() returns a file's size\n",
    "- os.listdir() returns a list of strings of filenames\n",
    "- os.path.exists() returns True if the filenme passed to it exists\n",
    "- os.path.isfile() and os.path.isdir() return True if they were passed a filename or file path"
   ]
  },
  {
   "cell_type": "code",
   "execution_count": 3,
   "metadata": {},
   "outputs": [
    {
     "data": {
      "text/plain": [
       "'C:\\\\Users\\\\iribarre\\\\Desktop\\\\2.jpg'"
      ]
     },
     "execution_count": 3,
     "metadata": {},
     "output_type": "execute_result"
    }
   ],
   "source": [
    "'C:\\\\Users\\\\iribarre\\\\Desktop\\\\2.jpg'"
   ]
  },
  {
   "cell_type": "code",
   "execution_count": 4,
   "metadata": {},
   "outputs": [
    {
     "data": {
      "text/plain": [
       "'folder1\\\\folder2\\\\folder3'"
      ]
     },
     "execution_count": 4,
     "metadata": {},
     "output_type": "execute_result"
    }
   ],
   "source": [
    "'\\\\'.join(['folder1', 'folder2', 'folder3'])"
   ]
  },
  {
   "cell_type": "code",
   "execution_count": 5,
   "metadata": {},
   "outputs": [],
   "source": [
    "import os"
   ]
  },
  {
   "cell_type": "code",
   "execution_count": 6,
   "metadata": {},
   "outputs": [
    {
     "data": {
      "text/plain": [
       "'folder1\\\\folder2\\\\2.jpg'"
      ]
     },
     "execution_count": 6,
     "metadata": {},
     "output_type": "execute_result"
    }
   ],
   "source": [
    "os.path.join('folder1', 'folder2', '2.jpg')"
   ]
  },
  {
   "cell_type": "code",
   "execution_count": 7,
   "metadata": {},
   "outputs": [
    {
     "data": {
      "text/plain": [
       "'\\\\'"
      ]
     },
     "execution_count": 7,
     "metadata": {},
     "output_type": "execute_result"
    }
   ],
   "source": [
    "os.sep"
   ]
  },
  {
   "cell_type": "code",
   "execution_count": 9,
   "metadata": {},
   "outputs": [
    {
     "data": {
      "text/plain": [
       "'C:\\\\Users\\\\iribarre'"
      ]
     },
     "execution_count": 9,
     "metadata": {},
     "output_type": "execute_result"
    }
   ],
   "source": [
    "os.getcwd()"
   ]
  },
  {
   "cell_type": "code",
   "execution_count": 11,
   "metadata": {},
   "outputs": [],
   "source": [
    "os.chdir('c:\\\\')"
   ]
  },
  {
   "cell_type": "code",
   "execution_count": 12,
   "metadata": {},
   "outputs": [
    {
     "data": {
      "text/plain": [
       "'c:\\\\'"
      ]
     },
     "execution_count": 12,
     "metadata": {},
     "output_type": "execute_result"
    }
   ],
   "source": [
    "os.getcwd()"
   ]
  },
  {
   "cell_type": "markdown",
   "metadata": {},
   "source": [
    "### Reading and Writting Plaintext Files\n",
    "- open() will return a file object which has reading and writing related methods\n",
    "- pass 'r' (or nothing) to open() to open the file in read mode, 'w' for write mode, 'a' for append more\n",
    "- opening a nonexistant filename in write or append mode will create that file\n",
    "- call read() or write() to read the contents of a file or write a string to a file\n",
    "- call readlines() to return a list of strings of the file's content\n",
    "- call close() when you are done with the file\n",
    "- the shelve module can store Python values in a binary file\n",
    "- shelve.open() returns a dictionary-like shelf value"
   ]
  },
  {
   "cell_type": "code",
   "execution_count": 4,
   "metadata": {},
   "outputs": [
    {
     "data": {
      "text/plain": [
       "'Hello World!\\nHow are you?\\n'"
      ]
     },
     "execution_count": 4,
     "metadata": {},
     "output_type": "execute_result"
    }
   ],
   "source": [
    "# Read the txt file\n",
    "helloFile = open(r'C:\\Users\\iribarre\\Desktop\\temp\\Python Exercises\\hello.txt')\n",
    "helloFile.read()"
   ]
  },
  {
   "cell_type": "code",
   "execution_count": 5,
   "metadata": {},
   "outputs": [],
   "source": [
    "helloFile.close()"
   ]
  },
  {
   "cell_type": "code",
   "execution_count": 6,
   "metadata": {},
   "outputs": [],
   "source": [
    "# read te file and associate to a variable\n",
    "helloFile = open(r'C:\\Users\\iribarre\\Desktop\\temp\\Python Exercises\\hello.txt')\n",
    "content = helloFile.read()\n",
    "print(content)"
   ]
  },
  {
   "cell_type": "code",
   "execution_count": 10,
   "metadata": {},
   "outputs": [],
   "source": [
    "helloFile.close()"
   ]
  },
  {
   "cell_type": "code",
   "execution_count": 12,
   "metadata": {},
   "outputs": [],
   "source": [
    "# Another way to read the file\n",
    "helloFile = open(r'C:\\Users\\iribarre\\Desktop\\temp\\Python Exercises\\hello.txt')\n",
    "helloFile.readlines()"
   ]
  },
  {
   "cell_type": "code",
   "execution_count": null,
   "metadata": {},
   "outputs": [],
   "source": [
    "helloFile.close()"
   ]
  },
  {
   "cell_type": "code",
   "execution_count": 14,
   "metadata": {},
   "outputs": [
    {
     "data": {
      "text/plain": [
       "11"
      ]
     },
     "execution_count": 14,
     "metadata": {},
     "output_type": "execute_result"
    }
   ],
   "source": [
    "# Create new file and write text\n",
    "helloFile = open(r'C:\\Users\\iribarre\\Desktop\\temp\\Python Exercises\\hello2.txt', 'w')\n",
    "helloFile.write('Hello!!!!!!')"
   ]
  },
  {
   "cell_type": "code",
   "execution_count": 15,
   "metadata": {},
   "outputs": [],
   "source": [
    "helloFile.close()"
   ]
  },
  {
   "cell_type": "code",
   "execution_count": 16,
   "metadata": {},
   "outputs": [
    {
     "data": {
      "text/plain": [
       "25"
      ]
     },
     "execution_count": 16,
     "metadata": {},
     "output_type": "execute_result"
    }
   ],
   "source": [
    "# Create a file not specifying the location\n",
    "baconFile = open('bacon.txt', 'w')\n",
    "baconFile.write('Bacon is not a vegetable.')"
   ]
  },
  {
   "cell_type": "code",
   "execution_count": 17,
   "metadata": {},
   "outputs": [],
   "source": [
    "baconFile.close()"
   ]
  },
  {
   "cell_type": "code",
   "execution_count": 18,
   "metadata": {},
   "outputs": [
    {
     "data": {
      "text/plain": [
       "'C:\\\\Users\\\\iribarre'"
      ]
     },
     "execution_count": 18,
     "metadata": {},
     "output_type": "execute_result"
    }
   ],
   "source": [
    "# Find the location of BaconFile\n",
    "import os\n",
    "os.getcwd()"
   ]
  },
  {
   "cell_type": "code",
   "execution_count": 30,
   "metadata": {},
   "outputs": [
    {
     "data": {
      "text/plain": [
       "25"
      ]
     },
     "execution_count": 30,
     "metadata": {},
     "output_type": "execute_result"
    }
   ],
   "source": [
    "# open the file in the \"adding 'mode'\n",
    "baconFile = open(r'C:\\Users\\iribarre\\Desktop\\temp\\Python Exercises\\bacon.txt', 'a') # 'a' will keep existent content\n",
    "baconFile.write('Bacon is not a vegetable.') # \\n is new line"
   ]
  },
  {
   "cell_type": "code",
   "execution_count": 31,
   "metadata": {},
   "outputs": [],
   "source": [
    "baconFile.close()"
   ]
  },
  {
   "cell_type": "code",
   "execution_count": 32,
   "metadata": {},
   "outputs": [],
   "source": [
    "# Save variables that have lists, dictionaries or other complex data structured\n",
    "import shelve"
   ]
  },
  {
   "cell_type": "code",
   "execution_count": 35,
   "metadata": {},
   "outputs": [],
   "source": [
    "# create a list stored like .dir .dat .bak\n",
    "shelfFile = shelve.open('mydata')\n",
    "shelfFile['cats'] = ['Bla', 'Ble', 'Bli']\n",
    "shelfFile.close()"
   ]
  },
  {
   "cell_type": "code",
   "execution_count": 36,
   "metadata": {},
   "outputs": [
    {
     "data": {
      "text/plain": [
       "['Bla', 'Ble', 'Bli']"
      ]
     },
     "execution_count": 36,
     "metadata": {},
     "output_type": "execute_result"
    }
   ],
   "source": [
    "shelfFile = shelve.open('mydata')\n",
    "shelfFile['cats']"
   ]
  },
  {
   "cell_type": "code",
   "execution_count": 37,
   "metadata": {},
   "outputs": [
    {
     "data": {
      "text/plain": [
       "'C:\\\\Users\\\\iribarre'"
      ]
     },
     "execution_count": 37,
     "metadata": {},
     "output_type": "execute_result"
    }
   ],
   "source": [
    "os.getcwd()"
   ]
  },
  {
   "cell_type": "markdown",
   "metadata": {},
   "source": [
    "### Copying, moving, renaming and deleting files and folders\n",
    "- import shutil library\n",
    "- .copy() for copying/pasting files and folders \n",
    "- .compytree() for copying a folder to another folder\n",
    "- .move() for moving filers and folders\n",
    "- change the file name direct in the functions\n",
    "- os.link() will delete a file\n",
    "- os.rmdir() will delete a folder (but the folder must be empty)\n",
    "- shutil.rmtree() will delete a folder and all its contents\n",
    "- deleting can be dangerous, so do a dry run first\n",
    "- send2trash.send2trash() will send a file or folder to te recycling bin"
   ]
  },
  {
   "cell_type": "code",
   "execution_count": 39,
   "metadata": {},
   "outputs": [],
   "source": [
    "# import library to manage folders and files\n",
    "import shutil"
   ]
  },
  {
   "cell_type": "code",
   "execution_count": 52,
   "metadata": {},
   "outputs": [
    {
     "data": {
      "text/plain": [
       "'C:\\\\Users\\\\iribarre\\\\Desktop\\\\temp\\\\Python Exercises\\\\[Python] Jogo da Adivinhação.ipynb'"
      ]
     },
     "execution_count": 52,
     "metadata": {},
     "output_type": "execute_result"
    }
   ],
   "source": [
    "# Copy a file to another folder\n",
    "shutil.copy('C:\\\\Users\\\\iribarre\\\\[Python] Jogo da Adivinhação.ipynb', 'C:\\\\Users\\\\iribarre\\\\Desktop\\\\temp\\\\Python Exercises')"
   ]
  },
  {
   "cell_type": "code",
   "execution_count": 53,
   "metadata": {},
   "outputs": [
    {
     "data": {
      "text/plain": [
       "'C:\\\\Users\\\\iribarre\\\\Desktop\\\\temp\\\\Python Exercises\\\\shutil_test.ipynb'"
      ]
     },
     "execution_count": 53,
     "metadata": {},
     "output_type": "execute_result"
    }
   ],
   "source": [
    "# Copy and rename a file at same time\n",
    "shutil.copy('C:\\\\Users\\\\iribarre\\\\[Python] Jogo da Adivinhação.ipynb', 'C:\\\\Users\\\\iribarre\\\\Desktop\\\\temp\\\\Python Exercises\\\\shutil_test.ipynb')"
   ]
  },
  {
   "cell_type": "code",
   "execution_count": 56,
   "metadata": {},
   "outputs": [
    {
     "data": {
      "text/plain": [
       "'C:\\\\Users\\\\iribarre\\\\Downloads\\\\Exercises_Backup'"
      ]
     },
     "execution_count": 56,
     "metadata": {},
     "output_type": "execute_result"
    }
   ],
   "source": [
    "# copy and move a folder\n",
    "shutil.copytree('C:\\\\Users\\\\iribarre\\\\Desktop\\\\temp\\\\Python Exercises', 'C:\\\\Users\\\\iribarre\\\\Downloads\\Exercises_Backup')"
   ]
  },
  {
   "cell_type": "code",
   "execution_count": 57,
   "metadata": {},
   "outputs": [
    {
     "data": {
      "text/plain": [
       "'C:\\\\Users\\\\iribarre\\\\Desktop\\\\temp\\\\Python Exercises\\\\[Python] Testando Funções.ipynb'"
      ]
     },
     "execution_count": 57,
     "metadata": {},
     "output_type": "execute_result"
    }
   ],
   "source": [
    "# move a file\n",
    "shutil.move('C:\\\\Users\\\\iribarre\\\\[Python] Testando Funções.ipynb', 'C:\\\\Users\\\\iribarre\\\\Desktop\\\\temp\\\\Python Exercises')"
   ]
  },
  {
   "cell_type": "code",
   "execution_count": 59,
   "metadata": {},
   "outputs": [
    {
     "ename": "OSError",
     "evalue": "[WinError 145] The directory is not empty: 'C:\\\\Users\\\\iribarre\\\\Downloads\\\\Exercises_Backup'",
     "output_type": "error",
     "traceback": [
      "\u001b[1;31m---------------------------------------------------------------------------\u001b[0m",
      "\u001b[1;31mOSError\u001b[0m                                   Traceback (most recent call last)",
      "\u001b[1;32m<ipython-input-59-32c5cc8412df>\u001b[0m in \u001b[0;36m<module>\u001b[1;34m\u001b[0m\n\u001b[0;32m      1\u001b[0m \u001b[1;31m# delete files and folder using os library\u001b[0m\u001b[1;33m\u001b[0m\u001b[1;33m\u001b[0m\u001b[1;33m\u001b[0m\u001b[0m\n\u001b[1;32m----> 2\u001b[1;33m \u001b[0mos\u001b[0m\u001b[1;33m.\u001b[0m\u001b[0mrmdir\u001b[0m\u001b[1;33m(\u001b[0m\u001b[1;34m'C:\\\\Users\\\\iribarre\\\\Downloads\\Exercises_Backup'\u001b[0m\u001b[1;33m)\u001b[0m \u001b[1;31m# only works in empty folders\u001b[0m\u001b[1;33m\u001b[0m\u001b[1;33m\u001b[0m\u001b[0m\n\u001b[0m",
      "\u001b[1;31mOSError\u001b[0m: [WinError 145] The directory is not empty: 'C:\\\\Users\\\\iribarre\\\\Downloads\\\\Exercises_Backup'"
     ]
    }
   ],
   "source": [
    "# delete empty folders using os library \n",
    "os.rmdir('C:\\\\Users\\\\iribarre\\\\Downloads\\Exercises_Backup') # only works in empty folders"
   ]
  },
  {
   "cell_type": "code",
   "execution_count": 60,
   "metadata": {},
   "outputs": [],
   "source": [
    "# delete all folders using shutil library \n",
    "shutil.rmtree('C:\\\\Users\\\\iribarre\\\\Downloads\\Exercises_Backup')"
   ]
  },
  {
   "cell_type": "code",
   "execution_count": 61,
   "metadata": {},
   "outputs": [
    {
     "name": "stdout",
     "output_type": "stream",
     "text": [
      "Requirement already satisfied: send2trash in c:\\users\\iribarre\\anaconda3\\lib\\site-packages (1.5.0)\n"
     ]
    }
   ],
   "source": [
    "!pip install send2trash"
   ]
  },
  {
   "cell_type": "code",
   "execution_count": 62,
   "metadata": {},
   "outputs": [],
   "source": [
    "# don't delete permanently, but just move to the trash\n",
    "import send2trash\n",
    "send2trash.send2trash('C:\\\\Users\\\\iribarre\\\\Desktop\\\\temp\\\\Python Exercises\\\\Aleatorio')"
   ]
  },
  {
   "cell_type": "markdown",
   "metadata": {},
   "source": [
    "### Walking a Directory Tree"
   ]
  },
  {
   "cell_type": "code",
   "execution_count": 68,
   "metadata": {},
   "outputs": [
    {
     "name": "stdout",
     "output_type": "stream",
     "text": [
      "The folder is C:\\Users\\iribarre\\Desktop\\temp\n",
      "The subfolders in C:\\Users\\iribarre\\Desktop\\temp are: ['Analise de Freshness', 'gis shp', 'Location Value', 'MW US CAN - IDO Pilot', 'projects', 'Python Exercises']\n",
      "The filenames in C:\\Users\\iribarre\\Desktop\\temp are: ['1675696256588.jpg', '2022-12-02_11-31-31.jpg', '2023-10-31_8-43-30.jpg', '2023-11-15_17-59-32.jpg', 'Análise temporal de oportunidades e tendências em ESG no Brasil - Patrícia Iribarrem.docx', 'Chart1.crtx', 'DataKitchen DataOps Academy - Get Your Free Fundamentals of DataOps Certification!.pdf', 'Dev_2023.xlsx', 'DK_dataops_book_2nd_edition.pdf', 'FUI AMER Metrics_DRAFT_v1 .pptx', 'HERE Technologies - Employee Orientation.pdf', 'LCD AMER Metrics.pbix', 'LCD Location Value - Test Dec2021.xlsx', 'LCD Org 2022_pati.xlsx', 'LCD_KPI Review_Metrics ideas.xlsx', 'Metrics.xlsx', '~$02.docx']\n",
      "\n",
      "The folder is C:\\Users\\iribarre\\Desktop\\temp\\Analise de Freshness\n",
      "The subfolders in C:\\Users\\iribarre\\Desktop\\temp\\Analise de Freshness are: []\n",
      "The filenames in C:\\Users\\iribarre\\Desktop\\temp\\Analise de Freshness are: ['Test 1.xlsx', 'Test 2.xlsx']\n",
      "\n",
      "The folder is C:\\Users\\iribarre\\Desktop\\temp\\gis shp\n",
      "The subfolders in C:\\Users\\iribarre\\Desktop\\temp\\gis shp are: []\n",
      "The filenames in C:\\Users\\iribarre\\Desktop\\temp\\gis shp are: ['admin_cluster.cpg', 'admin_cluster.dbf', 'admin_cluster.prj', 'admin_cluster.shp', 'admin_cluster.shx', 'uscenterline_admin.cpg', 'uscenterline_admin.dbf', 'uscenterline_admin.prj', 'uscenterline_admin.shp', 'uscenterline_admin.shx', 'uscenterline_buffer500m.cpg', 'uscenterline_buffer500m.dbf', 'uscenterline_buffer500m.geojson', 'uscenterline_buffer500m.prj', 'uscenterline_buffer500m.shp', 'uscenterline_buffer500m.shx', 'uscenterline_clusters.cpg', 'uscenterline_clusters.dbf', 'uscenterline_clusters.prj', 'uscenterline_clusters.sbn', 'uscenterline_clusters.sbx', 'uscenterline_clusters.shp', 'uscenterline_clusters.shx', 'uscenterline_subdivision.dbf', 'uscenterline_subdivision_buffer500m.cpg.json']\n",
      "\n",
      "The folder is C:\\Users\\iribarre\\Desktop\\temp\\Location Value\n",
      "The subfolders in C:\\Users\\iribarre\\Desktop\\temp\\Location Value are: ['Location Value_PBI_Brazil_Teste', 'Maintenance Dashboard', 'Shapefiles']\n",
      "The filenames in C:\\Users\\iribarre\\Desktop\\temp\\Location Value are: ['2021_NA_HERE_DrivePlan.xlsx', 'Admin_Shapefiles_Americas.zip', 'AMER_FUI_Completed_2021_Report 11-22-2021.cpg', 'AMER_FUI_Completed_2021_Report 11-22-2021.dbf', 'AMER_FUI_Completed_2021_Report 11-22-2021.prj', 'AMER_FUI_Completed_2021_Report 11-22-2021.shp', 'AMER_FUI_Completed_2021_Report 11-22-2021.shx', 'Brazil_city_pl.cpg', 'Brazil_city_pl.dbf', 'Brazil_city_pl.prj', 'Brazil_city_pl.qix', 'Brazil_city_pl.shp', 'Brazil_city_pl.shx', 'FUI_Published_Completed_2021.cpg', 'FUI_Published_Completed_2021.dbf', 'FUI_Published_Completed_2021.prj', 'FUI_Published_Completed_2021.shp', 'FUI_Published_Completed_2021.shx', 'FUI_Published_Completed_2021.zip', 'FUI_Published_Completed_from MW_2021.cpg', 'FUI_Published_Completed_from MW_2021.dbf', 'FUI_Published_Completed_from MW_2021.prj', 'FUI_Published_Completed_from MW_2021.shp', 'FUI_Published_Completed_from MW_2021.shx', 'FUI_Published_Completed_from MW_2021.zip', 'LCD AMER_Area.xlsx']\n",
      "\n",
      "The folder is C:\\Users\\iribarre\\Desktop\\temp\\Location Value\\Location Value_PBI_Brazil_Teste\n",
      "The subfolders in C:\\Users\\iribarre\\Desktop\\temp\\Location Value\\Location Value_PBI_Brazil_Teste are: []\n",
      "The filenames in C:\\Users\\iribarre\\Desktop\\temp\\Location Value\\Location Value_PBI_Brazil_Teste are: ['BR_Area.xlsx', 'BR_FUI Completed_2021_2021-11-22.xlsx', 'BR_LCD Responsability.xlsx', 'BR_Systematic Drive_2021.xlsx', 'FUI AMER Metrics.xlsx', 'pbi_test.pbix']\n",
      "\n",
      "The folder is C:\\Users\\iribarre\\Desktop\\temp\\Location Value\\Maintenance Dashboard\n",
      "The subfolders in C:\\Users\\iribarre\\Desktop\\temp\\Location Value\\Maintenance Dashboard are: ['Brazil', 'BR_Final', 'Peru']\n",
      "The filenames in C:\\Users\\iribarre\\Desktop\\temp\\Location Value\\Maintenance Dashboard are: []\n",
      "\n",
      "The folder is C:\\Users\\iribarre\\Desktop\\temp\\Location Value\\Maintenance Dashboard\\Brazil\n",
      "The subfolders in C:\\Users\\iribarre\\Desktop\\temp\\Location Value\\Maintenance Dashboard\\Brazil are: ['Brazil_shp', 'Priority City_BR']\n",
      "The filenames in C:\\Users\\iribarre\\Desktop\\temp\\Location Value\\Maintenance Dashboard\\Brazil are: ['2020_Scope_RapidLATAM_H2_V1.xlsx']\n",
      "\n",
      "The folder is C:\\Users\\iribarre\\Desktop\\temp\\Location Value\\Maintenance Dashboard\\Brazil\\Brazil_shp\n",
      "The subfolders in C:\\Users\\iribarre\\Desktop\\temp\\Location Value\\Maintenance Dashboard\\Brazil\\Brazil_shp are: ['JA', 'JB', 'JC', 'JD', 'JE']\n",
      "The filenames in C:\\Users\\iribarre\\Desktop\\temp\\Location Value\\Maintenance Dashboard\\Brazil\\Brazil_shp are: ['Brazil Combined Tiers Prioritization.pptx', 'Brazil Priority_v4.0.xlsx']\n",
      "\n",
      "The folder is C:\\Users\\iribarre\\Desktop\\temp\\Location Value\\Maintenance Dashboard\\Brazil\\Brazil_shp\\JA\n",
      "The subfolders in C:\\Users\\iribarre\\Desktop\\temp\\Location Value\\Maintenance Dashboard\\Brazil\\Brazil_shp\\JA are: ['SHAPE_Output']\n",
      "The filenames in C:\\Users\\iribarre\\Desktop\\temp\\Location Value\\Maintenance Dashboard\\Brazil\\Brazil_shp\\JA are: []\n",
      "\n",
      "The folder is C:\\Users\\iribarre\\Desktop\\temp\\Location Value\\Maintenance Dashboard\\Brazil\\Brazil_shp\\JA\\SHAPE_Output\n",
      "The subfolders in C:\\Users\\iribarre\\Desktop\\temp\\Location Value\\Maintenance Dashboard\\Brazil\\Brazil_shp\\JA\\SHAPE_Output are: []\n",
      "The filenames in C:\\Users\\iribarre\\Desktop\\temp\\Location Value\\Maintenance Dashboard\\Brazil\\Brazil_shp\\JA\\SHAPE_Output are: ['ActPOILoc.cpg', 'ActPOILoc.dbf', 'ActPOILoc.prj', 'ActPOILoc.shp', 'ActPOILoc.shx', 'Adminbndy1.cpg', 'Adminbndy1.dbf', 'Adminbndy1.prj', 'Adminbndy1.shp', 'Adminbndy1.shx', 'Adminbndy2.cpg', 'Adminbndy2.dbf', 'Adminbndy2.prj', 'Adminbndy2.shp', 'Adminbndy2.shx', 'Adminbndy3.cpg', 'Adminbndy3.dbf', 'Adminbndy3.prj', 'Adminbndy3.shp', 'Adminbndy3.shx', 'Adminbndy4.cpg', 'Adminbndy4.dbf', 'Adminbndy4.prj', 'Adminbndy4.shp', 'Adminbndy4.shx', 'Adminbndy5.cpg', 'Adminbndy5.dbf', 'Adminbndy5.prj', 'Adminbndy5.shp', 'Adminbndy5.shx', 'AdminLine1.cpg', 'AdminLine1.dbf', 'AdminLine1.prj', 'AdminLine1.shp', 'AdminLine1.shx', 'AdminLine2.cpg', 'AdminLine2.dbf', 'AdminLine2.prj', 'AdminLine2.shp', 'AdminLine2.shx', 'AggrFeatComp.cpg', 'AggrFeatComp.dbf', 'AggrFeatFile.cpg', 'AggrFeatFile.dbf', 'AggrFeature.cpg', 'AggrFeature.dbf', 'AltFeatNm.cpg', 'AltFeatNm.dbf', 'AltStreets.cpg', 'AltStreets.dbf', 'AltStreets.prj', 'AltStreets.shp', 'AltStreets.shx', 'AutoSvc.cpg', 'AutoSvc.dbf', 'AutoSvc.prj', 'AutoSvc.shp', 'AutoSvc.shx', 'BordCross.cpg', 'BordCross.dbf', 'BordCross.prj', 'BordCross.shp', 'BordCross.shx', 'Business.cpg', 'Business.dbf', 'Business.prj', 'Business.shp', 'Business.shx', 'CartoCountry.cpg', 'CartoCountry.dbf', 'CartoCountry.prj', 'CartoCountry.shp', 'CartoCountry.shx', 'CartoState.cpg', 'CartoState.dbf', 'CartoState.prj', 'CartoState.shp', 'CartoState.shx', 'Cdms.cpg', 'Cdms.dbf', 'CdmsDtmod.cpg', 'CdmsDtmod.dbf', 'CndFileAssoc.cpg', 'CndFileAssoc.dbf', 'CndMod.cpg', 'CndMod.dbf', 'CommSvc.cpg', 'CommSvc.dbf', 'CommSvc.prj', 'CommSvc.shp', 'EduInsts.cpg', 'EduInsts.dbf', 'EduInsts.prj', 'EduInsts.shp', 'EduInsts.shx', 'Entertn.cpg', 'Entertn.dbf', 'Entertn.prj', 'Entertn.shp', 'Entertn.shx', 'FeatureAttr.cpg', 'FeatureAttr.dbf', 'FinInsts.cpg', 'FinInsts.dbf', 'FinInsts.prj', 'FinInsts.shp', 'FinInsts.shx', 'Hospital.cpg', 'Hospital.dbf', 'Hospital.prj', 'Hospital.shp', 'Hospital.shx', 'Islands.cpg', 'Islands.dbf', 'Islands.prj', 'Islands.shp', 'Islands.shx', 'Landmark.cpg', 'Landmark.dbf', 'Landmark.prj', 'Landmark.shp', 'Landmark.shx', 'LandUseA.cpg', 'LandUseA.dbf', 'LandUseA.prj', 'LandUseA.shp', 'LandUseA.shx', 'LandUseB.cpg', 'LandUseB.dbf', 'LandUseB.prj', 'LandUseB.shp', 'LandUseB.shx', 'Lane.cpg', 'Lane.dbf', 'LnCdms.cpg', 'LnCdms.dbf', 'LnCndConn.cpg', 'LnCndConn.dbf', 'MajHwys.cpg', 'MajHwys.dbf', 'MajHwys.prj', 'MajHwys.shp', 'MajHwys.shx', 'MiscCategories.cpg', 'MiscCategories.dbf', 'MiscCategories.prj', 'MiscCategories.shp', 'MiscCategories.shx', 'MtdArea.cpg', 'MtdArea.dbf', 'MtdCmpRef.cpg', 'MtdCmpRef.dbf', 'MtdCntryRef.cpg', 'MtdCntryRef.dbf', 'MtdDST.cpg', 'MtdDST.dbf', 'MtdFileId.cpg', 'MtdFileId.dbf', 'MtdRef.cpg', 'MtdRef.dbf', 'MtdZoneRec.cpg', 'MtdZoneRec.dbf', 'NamedPlc.cpg', 'NamedPlc.dbf', 'NamedPlc.prj', 'NamedPlc.shp', 'NamedPlc.shx', 'Oceans.cpg', 'Oceans.dbf', 'Oceans.prj', 'Oceans.shp', 'Oceans.shx', 'Parking.cpg', 'Parking.dbf', 'Parking.prj', 'Parking.shp', 'Parking.shx', 'ParkRec.cpg', 'ParkRec.dbf', 'ParkRec.prj', 'ParkRec.shp', 'ParkRec.shx', 'PoiAssoc.cpg', 'PoiAssoc.dbf', 'POIAttr.cpg', 'POIAttr.dbf', 'PoiContact.cpg', 'PoiContact.dbf', 'PoiFileAssoc.cpg', 'PoiFileAssoc.dbf', 'PointAddress.cpg', 'PointAddress.dbf', 'PointAddress.prj', 'PointAddress.shp', 'PointAddress.shx', 'PoiRelat.cpg', 'PoiRelat.dbf', 'PoiTrans.cpg', 'PoiTrans.dbf', 'RailRds.cpg', 'RailRds.dbf', 'RailRds.prj', 'RailRds.shp', 'RailRds.shx', 'Rdms.cpg', 'Rdms.dbf', 'Restrnts.cpg', 'Restrnts.dbf', 'Restrnts.prj', 'Restrnts.shp', 'Restrnts.shx', 'SecHwys.cpg', 'SecHwys.dbf', 'SecHwys.prj', 'SecHwys.shp', 'SecHwys.shx', 'Shopping.cpg', 'Shopping.dbf', 'Shopping.prj', 'Shopping.shp', 'Shopping.shx', 'Signs.cpg', 'Signs.dbf', 'Streets.cpg', 'Streets.dbf', 'Streets.prj', 'Streets.shp', 'Streets.shx', 'TransHubs.cpg', 'TransHubs.dbf', 'TransHubs.prj', 'TransHubs.shp', 'TransHubs.shx', 'TravDest.cpg', 'TravDest.dbf', 'TravDest.prj', 'TravDest.shp', 'TravDest.shx', 'WaterPoly.cpg', 'WaterPoly.dbf', 'WaterPoly.prj', 'WaterPoly.shp', 'WaterPoly.shx', 'WaterSeg.cpg', 'WaterSeg.dbf', 'WaterSeg.prj', 'WaterSeg.shp', 'WaterSeg.shx', 'Zlevels.cpg', 'Zlevels.dbf', 'Zlevels.prj', 'Zlevels.shp', 'Zlevels.shx', 'Zones.cpg', 'Zones.dbf']\n",
      "\n",
      "The folder is C:\\Users\\iribarre\\Desktop\\temp\\Location Value\\Maintenance Dashboard\\Brazil\\Brazil_shp\\JB\n",
      "The subfolders in C:\\Users\\iribarre\\Desktop\\temp\\Location Value\\Maintenance Dashboard\\Brazil\\Brazil_shp\\JB are: ['SHAPE_Output']\n",
      "The filenames in C:\\Users\\iribarre\\Desktop\\temp\\Location Value\\Maintenance Dashboard\\Brazil\\Brazil_shp\\JB are: []\n",
      "\n",
      "The folder is C:\\Users\\iribarre\\Desktop\\temp\\Location Value\\Maintenance Dashboard\\Brazil\\Brazil_shp\\JB\\SHAPE_Output\n",
      "The subfolders in C:\\Users\\iribarre\\Desktop\\temp\\Location Value\\Maintenance Dashboard\\Brazil\\Brazil_shp\\JB\\SHAPE_Output are: []\n",
      "The filenames in C:\\Users\\iribarre\\Desktop\\temp\\Location Value\\Maintenance Dashboard\\Brazil\\Brazil_shp\\JB\\SHAPE_Output are: ['ActPOILoc.cpg', 'ActPOILoc.dbf', 'ActPOILoc.prj', 'ActPOILoc.shp', 'ActPOILoc.shx', 'Adminbndy1.cpg', 'Adminbndy1.dbf', 'Adminbndy1.prj', 'Adminbndy1.shp', 'Adminbndy1.shx', 'Adminbndy2.cpg', 'Adminbndy2.dbf', 'Adminbndy2.prj', 'Adminbndy2.shp', 'Adminbndy2.shx', 'Adminbndy3.cpg', 'Adminbndy3.dbf', 'Adminbndy3.prj', 'Adminbndy3.shp', 'Adminbndy3.shx', 'Adminbndy4.cpg', 'Adminbndy4.dbf', 'Adminbndy4.prj', 'Adminbndy4.shp', 'Adminbndy4.shx', 'Adminbndy5.cpg', 'Adminbndy5.dbf', 'Adminbndy5.prj', 'Adminbndy5.shp', 'Adminbndy5.shx', 'AdminLine1.cpg', 'AdminLine1.dbf', 'AdminLine1.prj', 'AdminLine1.shp', 'AdminLine1.shx', 'AdminLine2.cpg', 'AdminLine2.dbf', 'AdminLine2.prj', 'AdminLine2.shp', 'AdminLine2.shx', 'AggrFeatComp.cpg', 'AggrFeatComp.dbf', 'AggrFeatFile.cpg', 'AggrFeatFile.dbf', 'AggrFeature.cpg', 'AggrFeature.dbf', 'AltFeatNm.cpg', 'AltFeatNm.dbf', 'AltStreets.cpg', 'AltStreets.dbf', 'AltStreets.prj', 'AltStreets.shp', 'AltStreets.shx', 'AutoSvc.cpg', 'AutoSvc.dbf', 'AutoSvc.prj', 'AutoSvc.shp', 'AutoSvc.shx', 'Business.cpg', 'Business.dbf', 'Business.prj', 'Business.shp', 'Business.shx', 'CartoState.cpg', 'CartoState.dbf', 'CartoState.prj', 'CartoState.shp', 'CartoState.shx', 'Cdms.cpg', 'Cdms.dbf', 'CdmsDtmod.cpg', 'CdmsDtmod.dbf', 'CndFileAssoc.cpg', 'CndFileAssoc.dbf', 'CndMod.cpg', 'CndMod.dbf', 'CommSvc.cpg', 'CommSvc.dbf', 'CommSvc.prj', 'CommSvc.shp', 'CommSvc.shx', 'EduInsts.cpg', 'EduInsts.dbf', 'EduInsts.prj', 'EduInsts.shp', 'EduInsts.shx', 'Entertn.cpg', 'Entertn.dbf', 'Entertn.prj', 'Entertn.shp', 'Entertn.shx', 'FeatureAttr.cpg', 'FeatureAttr.dbf', 'FinInsts.cpg', 'FinInsts.dbf', 'FinInsts.prj', 'FinInsts.shp', 'FinInsts.shx', 'Hamlet.cpg', 'Hamlet.dbf', 'Hamlet.prj', 'Hamlet.shp', 'Hamlet.shx', 'Hospital.cpg', 'Hospital.dbf', 'Hospital.prj', 'Hospital.shp', 'Hospital.shx', 'Islands.cpg', 'Islands.dbf', 'Islands.prj', 'Islands.shp', 'Islands.shx', 'Landmark.cpg', 'Landmark.dbf', 'Landmark.prj', 'Landmark.shp', 'Landmark.shx', 'LandUseA.cpg', 'LandUseA.dbf', 'LandUseA.prj', 'LandUseA.shp', 'LandUseA.shx', 'LandUseB.cpg', 'LandUseB.dbf', 'LandUseB.prj', 'LandUseB.shp', 'LandUseB.shx', 'Lane.cpg', 'Lane.dbf', 'LnCdms.cpg', 'LnCdms.dbf', 'LnCndConn.cpg', 'LnCndConn.dbf', 'MajHwys.cpg', 'MajHwys.dbf', 'MajHwys.prj', 'MajHwys.shp', 'MajHwys.shx', 'MiscCategories.cpg', 'MiscCategories.dbf', 'MiscCategories.prj', 'MiscCategories.shp', 'MiscCategories.shx', 'MtdArea.cpg', 'MtdArea.dbf', 'MtdCmpRef.cpg', 'MtdCmpRef.dbf', 'MtdCntryRef.cpg', 'MtdCntryRef.dbf', 'MtdDST.cpg', 'MtdDST.dbf', 'MtdFileId.cpg', 'MtdFileId.dbf', 'MtdRef.cpg', 'MtdRef.dbf', 'MtdZoneRec.cpg', 'MtdZoneRec.dbf', 'NamedPlc.cpg', 'NamedPlc.dbf', 'NamedPlc.prj', 'NamedPlc.shp', 'NamedPlc.shx', 'Oceans.cpg', 'Oceans.dbf', 'Oceans.prj', 'Oceans.shp', 'Oceans.shx', 'Parking.cpg', 'Parking.dbf', 'Parking.prj', 'Parking.shp', 'Parking.shx', 'ParkRec.cpg', 'ParkRec.dbf', 'ParkRec.prj', 'ParkRec.shp', 'ParkRec.shx', 'PoiAssoc.cpg', 'PoiAssoc.dbf', 'POIAttr.cpg', 'POIAttr.dbf', 'PoiContact.cpg', 'PoiContact.dbf', 'PoiFileAssoc.cpg', 'PoiFileAssoc.dbf', 'PointAddress.cpg', 'PointAddress.dbf', 'PointAddress.prj', 'PointAddress.shp', 'PointAddress.shx', 'PoiRelat.cpg', 'PoiRelat.dbf', 'PoiTrans.cpg', 'PoiTrans.dbf', 'RailRds.cpg', 'RailRds.dbf', 'RailRds.prj', 'RailRds.shp', 'RailRds.shx', 'Rdms.cpg', 'Rdms.dbf', 'Restrnts.cpg', 'Restrnts.dbf', 'Restrnts.prj', 'Restrnts.shp', 'Restrnts.shx', 'SecHwys.cpg', 'SecHwys.dbf', 'SecHwys.prj', 'SecHwys.shp', 'SecHwys.shx', 'Shopping.cpg', 'Shopping.dbf', 'Shopping.prj', 'Shopping.shp', 'Shopping.shx', 'Signs.cpg', 'Signs.dbf', 'Streets.cpg', 'Streets.dbf', 'Streets.prj', 'Streets.shp', 'Streets.shx', 'TransHubs.cpg', 'TransHubs.dbf', 'TransHubs.prj', 'TransHubs.shp', 'TransHubs.shx', 'TravDest.cpg', 'TravDest.dbf', 'TravDest.prj', 'TravDest.shp', 'TravDest.shx', 'WaterPoly.cpg', 'WaterPoly.dbf', 'WaterPoly.prj', 'WaterPoly.shp', 'WaterPoly.shx', 'WaterSeg.cpg', 'WaterSeg.dbf', 'WaterSeg.prj', 'WaterSeg.shp', 'WaterSeg.shx', 'Zlevels.cpg', 'Zlevels.dbf', 'Zlevels.prj', 'Zlevels.shp', 'Zlevels.shx', 'Zones.cpg', 'Zones.dbf']\n",
      "\n",
      "The folder is C:\\Users\\iribarre\\Desktop\\temp\\Location Value\\Maintenance Dashboard\\Brazil\\Brazil_shp\\JC\n",
      "The subfolders in C:\\Users\\iribarre\\Desktop\\temp\\Location Value\\Maintenance Dashboard\\Brazil\\Brazil_shp\\JC are: ['SHAPE_Output']\n",
      "The filenames in C:\\Users\\iribarre\\Desktop\\temp\\Location Value\\Maintenance Dashboard\\Brazil\\Brazil_shp\\JC are: []\n",
      "\n",
      "The folder is C:\\Users\\iribarre\\Desktop\\temp\\Location Value\\Maintenance Dashboard\\Brazil\\Brazil_shp\\JC\\SHAPE_Output\n",
      "The subfolders in C:\\Users\\iribarre\\Desktop\\temp\\Location Value\\Maintenance Dashboard\\Brazil\\Brazil_shp\\JC\\SHAPE_Output are: []\n",
      "The filenames in C:\\Users\\iribarre\\Desktop\\temp\\Location Value\\Maintenance Dashboard\\Brazil\\Brazil_shp\\JC\\SHAPE_Output are: ['ActPOILoc.cpg', 'ActPOILoc.dbf', 'ActPOILoc.prj', 'ActPOILoc.shp', 'ActPOILoc.shx', 'Adminbndy1.cpg', 'Adminbndy1.dbf', 'Adminbndy1.prj', 'Adminbndy1.shp', 'Adminbndy1.shx', 'Adminbndy2.cpg', 'Adminbndy2.dbf', 'Adminbndy2.prj', 'Adminbndy2.shp', 'Adminbndy2.shx', 'Adminbndy3.cpg', 'Adminbndy3.dbf', 'Adminbndy3.prj', 'Adminbndy3.shp', 'Adminbndy3.shx', 'Adminbndy4.cpg', 'Adminbndy4.dbf', 'Adminbndy4.prj', 'Adminbndy4.shp', 'Adminbndy4.shx', 'Adminbndy5.cpg', 'Adminbndy5.dbf', 'Adminbndy5.prj', 'Adminbndy5.shp', 'Adminbndy5.shx', 'AdminLine1.cpg', 'AdminLine1.dbf', 'AdminLine1.prj', 'AdminLine1.shp', 'AdminLine1.shx', 'AdminLine2.cpg', 'AdminLine2.dbf', 'AdminLine2.prj', 'AdminLine2.shp', 'AdminLine2.shx', 'AggrFeatComp.cpg', 'AggrFeatComp.dbf', 'AggrFeatFile.cpg', 'AggrFeatFile.dbf', 'AggrFeature.cpg', 'AggrFeature.dbf', 'AltFeatNm.cpg', 'AltFeatNm.dbf', 'AltStreets.cpg', 'AltStreets.dbf', 'AltStreets.prj', 'AltStreets.shp', 'AltStreets.shx', 'AutoSvc.cpg', 'AutoSvc.dbf', 'AutoSvc.prj', 'AutoSvc.shp', 'AutoSvc.shx', 'Business.cpg', 'Business.dbf', 'Business.prj', 'Business.shp', 'Business.shx', 'CartoState.cpg', 'CartoState.dbf', 'CartoState.prj', 'CartoState.shp', 'CartoState.shx', 'Cdms.cpg', 'Cdms.dbf', 'CdmsDtmod.cpg', 'CdmsDtmod.dbf', 'CndFileAssoc.cpg', 'CndFileAssoc.dbf', 'CndMod.cpg', 'CndMod.dbf', 'CommSvc.cpg', 'CommSvc.dbf', 'CommSvc.prj', 'CommSvc.shp', 'CommSvc.shx', 'EduInsts.cpg', 'EduInsts.dbf', 'EduInsts.prj', 'EduInsts.shp', 'EduInsts.shx', 'Entertn.cpg', 'Entertn.dbf', 'Entertn.prj', 'Entertn.shp', 'Entertn.shx', 'FeatureAttr.cpg', 'FeatureAttr.dbf', 'FinInsts.cpg', 'FinInsts.dbf', 'FinInsts.prj', 'FinInsts.shp', 'FinInsts.shx', 'Hamlet.cpg', 'Hamlet.dbf', 'Hamlet.prj', 'Hamlet.shp', 'Hamlet.shx', 'Hospital.cpg', 'Hospital.dbf', 'Hospital.prj', 'Hospital.shp', 'Hospital.shx', 'Islands.cpg', 'Islands.dbf', 'Islands.prj', 'Islands.shp', 'Islands.shx', 'Landmark.cpg', 'Landmark.dbf', 'Landmark.prj', 'Landmark.shp', 'Landmark.shx', 'LandUseA.cpg', 'LandUseA.dbf', 'LandUseA.prj', 'LandUseA.shp', 'LandUseA.shx', 'LandUseB.cpg', 'LandUseB.dbf', 'LandUseB.prj', 'LandUseB.shp', 'LandUseB.shx', 'Lane.cpg', 'Lane.dbf', 'LnCdms.cpg', 'LnCdms.dbf', 'LnCndConn.cpg', 'LnCndConn.dbf', 'MajHwys.cpg', 'MajHwys.dbf', 'MajHwys.prj', 'MajHwys.shp', 'MajHwys.shx', 'MiscCategories.cpg', 'MiscCategories.dbf', 'MiscCategories.prj', 'MiscCategories.shp', 'MiscCategories.shx', 'MtdArea.cpg', 'MtdArea.dbf', 'MtdCmpRef.cpg', 'MtdCmpRef.dbf', 'MtdCntryRef.cpg', 'MtdCntryRef.dbf', 'MtdDST.cpg', 'MtdDST.dbf', 'MtdFileId.cpg', 'MtdFileId.dbf', 'MtdRef.cpg', 'MtdRef.dbf', 'MtdZoneRec.cpg', 'MtdZoneRec.dbf', 'NamedPlc.cpg', 'NamedPlc.dbf', 'NamedPlc.prj', 'NamedPlc.shp', 'NamedPlc.shx', 'Oceans.cpg', 'Oceans.dbf', 'Oceans.prj', 'Oceans.shp', 'Oceans.shx', 'Parking.cpg', 'Parking.dbf', 'Parking.prj', 'Parking.shp', 'Parking.shx', 'ParkRec.cpg', 'ParkRec.dbf', 'ParkRec.prj', 'ParkRec.shp', 'ParkRec.shx', 'PoiAssoc.cpg', 'PoiAssoc.dbf', 'POIAttr.cpg', 'POIAttr.dbf', 'PoiContact.cpg', 'PoiContact.dbf', 'PoiFileAssoc.cpg', 'PoiFileAssoc.dbf', 'PointAddress.cpg', 'PointAddress.dbf', 'PointAddress.prj', 'PointAddress.shp', 'PointAddress.shx', 'PoiRelat.cpg', 'PoiRelat.dbf', 'PoiTrans.cpg', 'PoiTrans.dbf', 'RailRds.cpg', 'RailRds.dbf', 'RailRds.prj', 'RailRds.shp', 'RailRds.shx', 'Rdms.cpg', 'Rdms.dbf', 'Restrnts.cpg', 'Restrnts.dbf', 'Restrnts.prj', 'Restrnts.shp', 'Restrnts.shx', 'SecHwys.cpg', 'SecHwys.dbf', 'SecHwys.prj', 'SecHwys.shp', 'SecHwys.shx', 'Shopping.cpg', 'Shopping.dbf', 'Shopping.prj', 'Shopping.shp', 'Shopping.shx', 'Signs.cpg', 'Signs.dbf', 'Streets.cpg', 'Streets.dbf', 'Streets.prj', 'Streets.shp', 'Streets.shx', 'TransHubs.cpg', 'TransHubs.dbf', 'TransHubs.prj', 'TransHubs.shp', 'TransHubs.shx', 'TravDest.cpg', 'TravDest.dbf', 'TravDest.prj', 'TravDest.shp', 'TravDest.shx', 'WaterPoly.cpg', 'WaterPoly.dbf', 'WaterPoly.prj', 'WaterPoly.shp', 'WaterPoly.shx', 'WaterSeg.cpg', 'WaterSeg.dbf', 'WaterSeg.prj', 'WaterSeg.shp', 'WaterSeg.shx', 'Zlevels.cpg', 'Zlevels.dbf', 'Zlevels.prj', 'Zlevels.shp', 'Zlevels.shx', 'Zones.cpg', 'Zones.dbf']\n",
      "\n",
      "The folder is C:\\Users\\iribarre\\Desktop\\temp\\Location Value\\Maintenance Dashboard\\Brazil\\Brazil_shp\\JD\n",
      "The subfolders in C:\\Users\\iribarre\\Desktop\\temp\\Location Value\\Maintenance Dashboard\\Brazil\\Brazil_shp\\JD are: ['SHAPE_Output']\n",
      "The filenames in C:\\Users\\iribarre\\Desktop\\temp\\Location Value\\Maintenance Dashboard\\Brazil\\Brazil_shp\\JD are: []\n",
      "\n",
      "The folder is C:\\Users\\iribarre\\Desktop\\temp\\Location Value\\Maintenance Dashboard\\Brazil\\Brazil_shp\\JD\\SHAPE_Output\n",
      "The subfolders in C:\\Users\\iribarre\\Desktop\\temp\\Location Value\\Maintenance Dashboard\\Brazil\\Brazil_shp\\JD\\SHAPE_Output are: []\n",
      "The filenames in C:\\Users\\iribarre\\Desktop\\temp\\Location Value\\Maintenance Dashboard\\Brazil\\Brazil_shp\\JD\\SHAPE_Output are: ['ActPOILoc.cpg', 'ActPOILoc.dbf', 'ActPOILoc.prj', 'ActPOILoc.shp', 'ActPOILoc.shx', 'Adminbndy1.cpg', 'Adminbndy1.dbf', 'Adminbndy1.prj', 'Adminbndy1.shp', 'Adminbndy1.shx', 'Adminbndy2.cpg', 'Adminbndy2.dbf', 'Adminbndy2.prj', 'Adminbndy2.shp', 'Adminbndy2.shx', 'Adminbndy3.cpg', 'Adminbndy3.dbf', 'Adminbndy3.prj', 'Adminbndy3.shp', 'Adminbndy3.shx', 'Adminbndy4.cpg', 'Adminbndy4.dbf', 'Adminbndy4.prj', 'Adminbndy4.shp', 'Adminbndy4.shx', 'Adminbndy5.cpg', 'Adminbndy5.dbf', 'Adminbndy5.prj', 'Adminbndy5.shp', 'Adminbndy5.shx', 'AdminLine1.cpg', 'AdminLine1.dbf', 'AdminLine1.prj', 'AdminLine1.shp', 'AdminLine1.shx', 'AdminLine2.cpg', 'AdminLine2.dbf', 'AdminLine2.prj', 'AdminLine2.shp', 'AdminLine2.shx', 'AggrFeatComp.cpg', 'AggrFeatComp.dbf', 'AggrFeatFile.cpg', 'AggrFeatFile.dbf', 'AggrFeature.cpg', 'AggrFeature.dbf', 'AltFeatNm.cpg', 'AltFeatNm.dbf', 'AltStreets.cpg', 'AltStreets.dbf', 'AltStreets.prj', 'AltStreets.shp', 'AltStreets.shx', 'AutoSvc.cpg', 'AutoSvc.dbf', 'AutoSvc.prj', 'AutoSvc.shp', 'AutoSvc.shx', 'Business.cpg', 'Business.dbf', 'Business.prj', 'Business.shp', 'Business.shx', 'CartoState.cpg', 'CartoState.dbf', 'CartoState.prj', 'CartoState.shp', 'CartoState.shx', 'Cdms.cpg', 'Cdms.dbf', 'CdmsDtmod.cpg', 'CdmsDtmod.dbf', 'CndFileAssoc.cpg', 'CndFileAssoc.dbf', 'CndMod.cpg', 'CndMod.dbf', 'CommSvc.cpg', 'CommSvc.dbf', 'CommSvc.prj', 'CommSvc.shp', 'CommSvc.shx', 'EduInsts.cpg', 'EduInsts.dbf', 'EduInsts.prj', 'EduInsts.shp', 'EduInsts.shx', 'Entertn.cpg', 'Entertn.dbf', 'Entertn.prj', 'Entertn.shp', 'Entertn.shx', 'FeatureAttr.cpg', 'FeatureAttr.dbf', 'FinInsts.cpg', 'FinInsts.dbf', 'FinInsts.prj', 'FinInsts.shp', 'FinInsts.shx', 'Hamlet.cpg', 'Hamlet.dbf', 'Hamlet.prj', 'Hamlet.shp', 'Hamlet.shx', 'Hospital.cpg', 'Hospital.dbf', 'Hospital.prj', 'Hospital.shp', 'Hospital.shx', 'Islands.cpg', 'Islands.dbf', 'Islands.prj', 'Islands.shp', 'Islands.shx', 'Landmark.cpg', 'Landmark.dbf', 'Landmark.prj', 'Landmark.shp', 'Landmark.shx', 'LandUseA.cpg', 'LandUseA.dbf', 'LandUseA.prj', 'LandUseA.shp', 'LandUseA.shx', 'LandUseB.cpg', 'LandUseB.dbf', 'LandUseB.prj', 'LandUseB.shp', 'LandUseB.shx', 'Lane.cpg', 'Lane.dbf', 'LnCdms.cpg', 'LnCdms.dbf', 'LnCndConn.cpg', 'LnCndConn.dbf', 'MajHwys.cpg', 'MajHwys.dbf', 'MajHwys.prj', 'MajHwys.shp', 'MajHwys.shx', 'MiscCategories.cpg', 'MiscCategories.dbf', 'MiscCategories.prj', 'MiscCategories.shp', 'MiscCategories.shx', 'MtdArea.cpg', 'MtdArea.dbf', 'MtdCmpRef.cpg', 'MtdCmpRef.dbf', 'MtdCntryRef.cpg', 'MtdCntryRef.dbf', 'MtdDST.cpg', 'MtdDST.dbf', 'MtdFileId.cpg', 'MtdFileId.dbf', 'MtdRef.cpg', 'MtdRef.dbf', 'MtdZoneRec.cpg', 'MtdZoneRec.dbf', 'NamedPlc.cpg', 'NamedPlc.dbf', 'NamedPlc.prj', 'NamedPlc.shp', 'NamedPlc.shx', 'Oceans.cpg', 'Oceans.dbf', 'Oceans.prj', 'Oceans.shp', 'Oceans.shx', 'Parking.cpg', 'Parking.dbf', 'Parking.prj', 'Parking.shp', 'Parking.shx', 'ParkRec.cpg', 'ParkRec.dbf', 'ParkRec.prj', 'ParkRec.shp', 'ParkRec.shx', 'PoiAssoc.cpg', 'PoiAssoc.dbf', 'POIAttr.cpg', 'POIAttr.dbf', 'PoiContact.cpg', 'PoiContact.dbf', 'PoiFileAssoc.cpg', 'PoiFileAssoc.dbf', 'PointAddress.cpg', 'PointAddress.dbf', 'PointAddress.prj', 'PointAddress.shp', 'PointAddress.shx', 'PoiRelat.cpg', 'PoiRelat.dbf', 'PoiTrans.cpg', 'PoiTrans.dbf', 'RailRds.cpg', 'RailRds.dbf', 'RailRds.prj', 'RailRds.shp', 'RailRds.shx', 'Rdms.cpg', 'Rdms.dbf', 'Restrnts.cpg', 'Restrnts.dbf', 'Restrnts.prj', 'Restrnts.shp', 'Restrnts.shx', 'SecHwys.cpg', 'SecHwys.dbf', 'SecHwys.prj', 'SecHwys.shp', 'SecHwys.shx', 'Shopping.cpg', 'Shopping.dbf', 'Shopping.prj', 'Shopping.shp', 'Shopping.shx', 'Signs.cpg', 'Signs.dbf', 'Streets.cpg', 'Streets.dbf', 'Streets.prj', 'Streets.shp', 'Streets.shx', 'TransHubs.cpg', 'TransHubs.dbf', 'TransHubs.prj', 'TransHubs.shp', 'TransHubs.shx', 'TravDest.cpg', 'TravDest.dbf', 'TravDest.prj', 'TravDest.shp', 'TravDest.shx', 'WaterPoly.cpg', 'WaterPoly.dbf', 'WaterPoly.prj', 'WaterPoly.shp', 'WaterPoly.shx', 'WaterSeg.cpg', 'WaterSeg.dbf', 'WaterSeg.prj', 'WaterSeg.shp', 'WaterSeg.shx', 'Zlevels.cpg', 'Zlevels.dbf', 'Zlevels.prj', 'Zlevels.shp', 'Zlevels.shx', 'Zones.cpg', 'Zones.dbf']\n",
      "\n",
      "The folder is C:\\Users\\iribarre\\Desktop\\temp\\Location Value\\Maintenance Dashboard\\Brazil\\Brazil_shp\\JE\n",
      "The subfolders in C:\\Users\\iribarre\\Desktop\\temp\\Location Value\\Maintenance Dashboard\\Brazil\\Brazil_shp\\JE are: ['SHAPE_Output']\n",
      "The filenames in C:\\Users\\iribarre\\Desktop\\temp\\Location Value\\Maintenance Dashboard\\Brazil\\Brazil_shp\\JE are: []\n",
      "\n",
      "The folder is C:\\Users\\iribarre\\Desktop\\temp\\Location Value\\Maintenance Dashboard\\Brazil\\Brazil_shp\\JE\\SHAPE_Output\n",
      "The subfolders in C:\\Users\\iribarre\\Desktop\\temp\\Location Value\\Maintenance Dashboard\\Brazil\\Brazil_shp\\JE\\SHAPE_Output are: []\n",
      "The filenames in C:\\Users\\iribarre\\Desktop\\temp\\Location Value\\Maintenance Dashboard\\Brazil\\Brazil_shp\\JE\\SHAPE_Output are: ['ActPOILoc.cpg', 'ActPOILoc.dbf', 'ActPOILoc.prj', 'ActPOILoc.shp', 'ActPOILoc.shx', 'Adminbndy1.cpg', 'Adminbndy1.dbf', 'Adminbndy1.prj', 'Adminbndy1.shp', 'Adminbndy1.shx', 'Adminbndy2.cpg', 'Adminbndy2.dbf', 'Adminbndy2.prj', 'Adminbndy2.shp', 'Adminbndy2.shx', 'Adminbndy3.cpg', 'Adminbndy3.dbf', 'Adminbndy3.prj', 'Adminbndy3.shp', 'Adminbndy3.shx', 'Adminbndy4.cpg', 'Adminbndy4.dbf', 'Adminbndy4.prj', 'Adminbndy4.shp', 'Adminbndy4.shx', 'Adminbndy5.cpg', 'Adminbndy5.dbf', 'Adminbndy5.prj', 'Adminbndy5.shp', 'Adminbndy5.shx', 'AdminLine1.cpg', 'AdminLine1.dbf', 'AdminLine1.prj', 'AdminLine1.shp', 'AdminLine1.shx', 'AdminLine2.cpg', 'AdminLine2.dbf', 'AdminLine2.prj', 'AdminLine2.shp', 'AdminLine2.shx', 'AggrFeatComp.cpg', 'AggrFeatComp.dbf', 'AggrFeatFile.cpg', 'AggrFeatFile.dbf', 'AggrFeature.cpg', 'AggrFeature.dbf', 'AltFeatNm.cpg', 'AltFeatNm.dbf', 'AltStreets.cpg', 'AltStreets.dbf', 'AltStreets.prj', 'AltStreets.shp', 'AltStreets.shx', 'AutoSvc.cpg', 'AutoSvc.dbf', 'AutoSvc.prj', 'AutoSvc.shp', 'AutoSvc.shx', 'BordCross.cpg', 'BordCross.dbf', 'BordCross.prj', 'BordCross.shp', 'BordCross.shx', 'Business.cpg', 'Business.dbf', 'Business.prj', 'Business.shp', 'Business.shx', 'CartoCountry.cpg', 'CartoCountry.dbf', 'CartoCountry.prj', 'CartoCountry.shp', 'CartoCountry.shx', 'CartoState.cpg', 'CartoState.dbf', 'CartoState.prj', 'CartoState.shp', 'CartoState.shx', 'Cdms.cpg', 'Cdms.dbf', 'CdmsDtmod.cpg', 'CdmsDtmod.dbf', 'CndFileAssoc.cpg', 'CndFileAssoc.dbf', 'CndMod.cpg', 'CndMod.dbf', 'CommSvc.cpg', 'CommSvc.dbf', 'CommSvc.prj', 'CommSvc.shp', 'CommSvc.shx', 'EduInsts.cpg', 'EduInsts.dbf', 'EduInsts.prj', 'EduInsts.shp', 'EduInsts.shx', 'Entertn.cpg', 'Entertn.dbf', 'Entertn.prj', 'Entertn.shp', 'Entertn.shx', 'FeatureAttr.cpg', 'FeatureAttr.dbf', 'FinInsts.cpg', 'FinInsts.dbf', 'FinInsts.prj', 'FinInsts.shp', 'FinInsts.shx', 'Hamlet.cpg', 'Hamlet.dbf', 'Hamlet.prj', 'Hamlet.shp', 'Hamlet.shx', 'Hospital.cpg', 'Hospital.dbf', 'Hospital.prj', 'Hospital.shp', 'Hospital.shx', 'Islands.cpg', 'Islands.dbf', 'Islands.prj', 'Islands.shp', 'Islands.shx', 'Landmark.cpg', 'Landmark.dbf', 'Landmark.prj', 'Landmark.shp', 'Landmark.shx', 'LandUseA.cpg', 'LandUseA.dbf', 'LandUseA.prj', 'LandUseA.shp', 'LandUseA.shx', 'LandUseB.cpg', 'LandUseB.dbf', 'LandUseB.prj', 'LandUseB.shp', 'LandUseB.shx', 'Lane.cpg', 'Lane.dbf', 'LnCdms.cpg', 'LnCdms.dbf', 'LnCndConn.cpg', 'LnCndConn.dbf', 'MajHwys.cpg', 'MajHwys.dbf', 'MajHwys.prj', 'MajHwys.shp', 'MajHwys.shx', 'MiscCategories.cpg', 'MiscCategories.dbf', 'MiscCategories.prj', 'MiscCategories.shp', 'MiscCategories.shx', 'MtdArea.cpg', 'MtdArea.dbf', 'MtdCmpRef.cpg', 'MtdCmpRef.dbf', 'MtdCntryRef.cpg', 'MtdCntryRef.dbf', 'MtdDST.cpg', 'MtdDST.dbf', 'MtdFileId.cpg', 'MtdFileId.dbf', 'MtdRef.cpg', 'MtdRef.dbf', 'MtdZoneRec.cpg', 'MtdZoneRec.dbf', 'NamedPlc.cpg', 'NamedPlc.dbf', 'NamedPlc.prj', 'NamedPlc.shp', 'NamedPlc.shx', 'Oceans.cpg', 'Oceans.dbf', 'Oceans.prj', 'Oceans.shp', 'Oceans.shx', 'Parking.cpg', 'Parking.dbf', 'Parking.prj', 'Parking.shp', 'Parking.shx', 'ParkRec.cpg', 'ParkRec.dbf', 'ParkRec.prj', 'ParkRec.shp', 'ParkRec.shx', 'PoiAssoc.cpg', 'PoiAssoc.dbf', 'POIAttr.cpg', 'POIAttr.dbf', 'PoiContact.cpg', 'PoiContact.dbf', 'PoiFileAssoc.cpg', 'PoiFileAssoc.dbf', 'PointAddress.cpg', 'PointAddress.dbf', 'PointAddress.prj', 'PointAddress.shp', 'PointAddress.shx', 'PoiRelat.cpg', 'PoiRelat.dbf', 'PoiTrans.cpg', 'PoiTrans.dbf', 'RailRds.cpg', 'RailRds.dbf', 'RailRds.prj', 'RailRds.shp', 'RailRds.shx', 'Rdms.cpg', 'Rdms.dbf', 'Restrnts.cpg', 'Restrnts.dbf', 'Restrnts.prj', 'Restrnts.shp', 'Restrnts.shx', 'SecHwys.cpg', 'SecHwys.dbf', 'SecHwys.prj', 'SecHwys.shp', 'SecHwys.shx', 'Shopping.cpg', 'Shopping.dbf', 'Shopping.prj', 'Shopping.shp', 'Shopping.shx', 'Signs.cpg', 'Signs.dbf', 'Streets.cpg', 'Streets.dbf', 'Streets.prj', 'Streets.shp', 'Streets.shx', 'TransHubs.cpg', 'TransHubs.dbf', 'TransHubs.prj', 'TransHubs.shp', 'TransHubs.shx', 'TravDest.cpg', 'TravDest.dbf', 'TravDest.prj', 'TravDest.shp', 'TravDest.shx', 'WaterPoly.cpg', 'WaterPoly.dbf', 'WaterPoly.prj', 'WaterPoly.shp', 'WaterPoly.shx', 'WaterSeg.cpg', 'WaterSeg.dbf', 'WaterSeg.prj', 'WaterSeg.shp', 'WaterSeg.shx', 'Zlevels.cpg', 'Zlevels.dbf', 'Zlevels.prj', 'Zlevels.shp', 'Zlevels.shx', 'Zones.cpg', 'Zones.dbf']\n",
      "\n",
      "The folder is C:\\Users\\iribarre\\Desktop\\temp\\Location Value\\Maintenance Dashboard\\Brazil\\Priority City_BR\n",
      "The subfolders in C:\\Users\\iribarre\\Desktop\\temp\\Location Value\\Maintenance Dashboard\\Brazil\\Priority City_BR are: []\n",
      "The filenames in C:\\Users\\iribarre\\Desktop\\temp\\Location Value\\Maintenance Dashboard\\Brazil\\Priority City_BR are: ['Brazil Combined Tiers Prioritization.pptx', 'Brazil Priority_shp.csv', 'Brazil Priority_v4.0.xlsx']\n",
      "\n",
      "The folder is C:\\Users\\iribarre\\Desktop\\temp\\Location Value\\Maintenance Dashboard\\BR_Final\n",
      "The subfolders in C:\\Users\\iribarre\\Desktop\\temp\\Location Value\\Maintenance Dashboard\\BR_Final are: []\n",
      "The filenames in C:\\Users\\iribarre\\Desktop\\temp\\Location Value\\Maintenance Dashboard\\BR_Final are: ['Brazil_JA_PriorityCity.cpg', 'Brazil_JA_PriorityCity.dbf', 'Brazil_JA_PriorityCity.prj', 'Brazil_JA_PriorityCity.shp', 'Brazil_JA_PriorityCity.shx', 'Brazil_JA_PriorityCity_Rapid.cpg', 'Brazil_JA_PriorityCity_Rapid.dbf', 'Brazil_JA_PriorityCity_Rapid.prj', 'Brazil_JA_PriorityCity_Rapid.shp', 'Brazil_JA_PriorityCity_Rapid.shx', 'Brazil_JA_PriorityCity_Rapid.zip', 'Brazil_JB_PriorityCity.cpg', 'Brazil_JB_PriorityCity.dbf', 'Brazil_JB_PriorityCity.prj', 'Brazil_JB_PriorityCity.shp', 'Brazil_JB_PriorityCity.shx', 'Brazil_JB_PriorityCity_Rapid.cpg', 'Brazil_JB_PriorityCity_Rapid.dbf', 'Brazil_JB_PriorityCity_Rapid.prj', 'Brazil_JB_PriorityCity_Rapid.shp', 'Brazil_JB_PriorityCity_Rapid.shx', 'Brazil_JB_PriorityCity_Rapid.zip', 'Brazil_JC_PriorityCity.cpg', 'Brazil_JC_PriorityCity.dbf', 'Brazil_JC_PriorityCity.prj', 'Brazil_JC_PriorityCity.shp', 'Brazil_JC_PriorityCity.shx', 'Brazil_JC_PriorityCity_Rapid.cpg', 'Brazil_JC_PriorityCity_Rapid.dbf', 'Brazil_JC_PriorityCity_Rapid.prj', 'Brazil_JC_PriorityCity_Rapid.shp', 'Brazil_JC_PriorityCity_Rapid.shx', 'Brazil_JC_PriorityCity_Rapid.zip', 'Brazil_JD_PriorityCity.cpg', 'Brazil_JD_PriorityCity.dbf', 'Brazil_JD_PriorityCity.prj', 'Brazil_JD_PriorityCity.shp', 'Brazil_JD_PriorityCity.shx', 'Brazil_JD_PriorityCity_Rapid.cpg', 'Brazil_JD_PriorityCity_Rapid.dbf', 'Brazil_JD_PriorityCity_Rapid.prj', 'Brazil_JD_PriorityCity_Rapid.shp', 'Brazil_JD_PriorityCity_Rapid.shx', 'Brazil_JD_PriorityCity_Rapid.zip', 'Brazil_JE_PriorityCity.cpg', 'Brazil_JE_PriorityCity.dbf', 'Brazil_JE_PriorityCity.prj', 'Brazil_JE_PriorityCity.shp', 'Brazil_JE_PriorityCity.shx', 'Brazil_JE_PriorityCity_Rapid.cpg', 'Brazil_JE_PriorityCity_Rapid.dbf', 'Brazil_JE_PriorityCity_Rapid.prj', 'Brazil_JE_PriorityCity_Rapid.shp', 'Brazil_JE_PriorityCity_Rapid.shx', 'Brazil_JE_PriorityCity_Rapid.zip']\n",
      "\n",
      "The folder is C:\\Users\\iribarre\\Desktop\\temp\\Location Value\\Maintenance Dashboard\\Peru\n",
      "The subfolders in C:\\Users\\iribarre\\Desktop\\temp\\Location Value\\Maintenance Dashboard\\Peru are: ['PERU_Navstreets', 'Semi-FInal']\n",
      "The filenames in C:\\Users\\iribarre\\Desktop\\temp\\Location Value\\Maintenance Dashboard\\Peru are: ['2020_Scope_RapidLATAM_H2_V1.xlsx', 'Peru Combined Tier Prioritization.pptx', 'Peru_Priority_2020.xlsx', 'Priority.csv', 'Priority2.csv', 'Priority3.csv', 'Priority4.csv']\n",
      "\n",
      "The folder is C:\\Users\\iribarre\\Desktop\\temp\\Location Value\\Maintenance Dashboard\\Peru\\PERU_Navstreets\n",
      "The subfolders in C:\\Users\\iribarre\\Desktop\\temp\\Location Value\\Maintenance Dashboard\\Peru\\PERU_Navstreets are: []\n",
      "The filenames in C:\\Users\\iribarre\\Desktop\\temp\\Location Value\\Maintenance Dashboard\\Peru\\PERU_Navstreets are: ['Adminbndy1.cpg', 'Adminbndy1.dbf', 'Adminbndy1.prj', 'Adminbndy1.shp', 'Adminbndy1.shx', 'Adminbndy2.cpg', 'Adminbndy2.dbf', 'Adminbndy2.prj', 'Adminbndy2.shp', 'Adminbndy2.shx', 'Adminbndy3.cpg', 'Adminbndy3.dbf', 'Adminbndy3.prj', 'Adminbndy3.shp', 'Adminbndy3.shx', 'Adminbndy4.cpg', 'Adminbndy4.dbf', 'Adminbndy4.prj', 'Adminbndy4.shp', 'Adminbndy4.shx', 'Adminbndy5.cpg', 'Adminbndy5.dbf', 'Adminbndy5.prj', 'Adminbndy5.shp', 'Adminbndy5.shx', 'AdminLine1.cpg', 'AdminLine1.dbf', 'AdminLine1.prj', 'AdminLine1.shp', 'AdminLine1.shx', 'AdminLine2.cpg', 'AdminLine2.dbf', 'AdminLine2.prj', 'AdminLine2.shp', 'AdminLine2.shx', 'Streets.cpg', 'Streets.prj', 'Streets.shp', 'Streets.shx']\n",
      "\n",
      "The folder is C:\\Users\\iribarre\\Desktop\\temp\\Location Value\\Maintenance Dashboard\\Peru\\Semi-FInal\n",
      "The subfolders in C:\\Users\\iribarre\\Desktop\\temp\\Location Value\\Maintenance Dashboard\\Peru\\Semi-FInal are: []\n",
      "The filenames in C:\\Users\\iribarre\\Desktop\\temp\\Location Value\\Maintenance Dashboard\\Peru\\Semi-FInal are: ['Peru_PriorityCity.cpg', 'Peru_PriorityCity.dbf', 'Peru_PriorityCity.prj', 'Peru_PriorityCity.shp', 'Peru_PriorityCity.shx', 'Peru_PriorityCity.zip']\n",
      "\n",
      "The folder is C:\\Users\\iribarre\\Desktop\\temp\\Location Value\\Shapefiles\n",
      "The subfolders in C:\\Users\\iribarre\\Desktop\\temp\\Location Value\\Shapefiles are: []\n",
      "The filenames in C:\\Users\\iribarre\\Desktop\\temp\\Location Value\\Shapefiles are: ['LATAM_POLY.cpg', 'LATAM_POLY.dbf', 'LATAM_POLY.prj', 'LATAM_POLY.sbn', 'LATAM_POLY.sbx', 'LATAM_POLY.shp', 'LATAM_POLY.shp.xml', 'LATAM_POLY.shx', 'US_CAN_POLY.cpg', 'US_CAN_POLY.dbf', 'US_CAN_POLY.prj', 'US_CAN_POLY.sbn', 'US_CAN_POLY.sbx', 'US_CAN_POLY.shp', 'US_CAN_POLY.shp.xml', 'US_CAN_POLY.shx']\n",
      "\n",
      "The folder is C:\\Users\\iribarre\\Desktop\\temp\\MW US CAN - IDO Pilot\n",
      "The subfolders in C:\\Users\\iribarre\\Desktop\\temp\\MW US CAN - IDO Pilot are: []\n",
      "The filenames in C:\\Users\\iribarre\\Desktop\\temp\\MW US CAN - IDO Pilot are: ['CAN W1.csv', 'CTNAC(MX) IDO - FQ2-22  Final Execution.pptx', 'CTNAC(MX) IDO - FQ3-22 Execution.pptx', 'MeltWater Neptune Deck_FQ1-22.pptx', 'US W1.csv']\n",
      "\n",
      "The folder is C:\\Users\\iribarre\\Desktop\\temp\\projects\n",
      "The subfolders in C:\\Users\\iribarre\\Desktop\\temp\\projects are: ['export']\n",
      "The filenames in C:\\Users\\iribarre\\Desktop\\temp\\projects are: []\n",
      "\n",
      "The folder is C:\\Users\\iribarre\\Desktop\\temp\\projects\\export\n",
      "The subfolders in C:\\Users\\iribarre\\Desktop\\temp\\projects\\export are: ['FalloutLayers']\n",
      "The filenames in C:\\Users\\iribarre\\Desktop\\temp\\projects\\export are: []\n",
      "\n",
      "The folder is C:\\Users\\iribarre\\Desktop\\temp\\projects\\export\\FalloutLayers\n",
      "The subfolders in C:\\Users\\iribarre\\Desktop\\temp\\projects\\export\\FalloutLayers are: []\n",
      "The filenames in C:\\Users\\iribarre\\Desktop\\temp\\projects\\export\\FalloutLayers are: []\n",
      "\n",
      "The folder is C:\\Users\\iribarre\\Desktop\\temp\\Python Exercises\n",
      "The subfolders in C:\\Users\\iribarre\\Desktop\\temp\\Python Exercises are: []\n",
      "The filenames in C:\\Users\\iribarre\\Desktop\\temp\\Python Exercises are: ['bacon.txt', 'hello.txt', 'hello2.txt', 'mydata.bak', 'mydata.dat', 'mydata.dir', 'shutil_test.ipynb', 'street.html', '[Python] Jogo da Adivinhação.ipynb', '[Python] Testando Funções.ipynb']\n",
      "\n"
     ]
    }
   ],
   "source": [
    "for folderName, subFolders, filenames in os.walk('C:\\\\Users\\\\iribarre\\\\Desktop\\\\temp'):\n",
    "    print('The folder is ' + folderName)\n",
    "    print('The subfolders in ' + folderName + ' are: ' + str(subFolders))\n",
    "    print('The filenames in ' + folderName + ' are: ' + str(filenames))\n",
    "    print()          "
   ]
  }
 ],
 "metadata": {
  "kernelspec": {
   "display_name": "Python 3",
   "language": "python",
   "name": "python3"
  },
  "language_info": {
   "codemirror_mode": {
    "name": "ipython",
    "version": 3
   },
   "file_extension": ".py",
   "mimetype": "text/x-python",
   "name": "python",
   "nbconvert_exporter": "python",
   "pygments_lexer": "ipython3",
   "version": "3.7.6"
  }
 },
 "nbformat": 4,
 "nbformat_minor": 4
}
